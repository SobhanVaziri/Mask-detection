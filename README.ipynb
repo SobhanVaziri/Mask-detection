{
 "cells": [
  {
   "cell_type": "markdown",
   "id": "afc69664-fa3a-46f1-8184-c8986794012b",
   "metadata": {},
   "source": [
    "<center>\n",
    "    <h1>Face mask detection</h1>\n",
    "</center>"
   ]
  },
  {
   "cell_type": "markdown",
   "id": "311bfec4-535b-40b9-9ae3-d3a3779ba30a",
   "metadata": {},
   "source": [
    "## Follow the steps below!!\n",
    "\n",
    "```\n",
    "git clone https://github.com/SobhanVaziri/Mask-detection.git\n",
    "```"
   ]
  },
  {
   "cell_type": "code",
   "execution_count": null,
   "id": "cff67c52-0cc9-4ab1-93f4-a72abf6817cb",
   "metadata": {},
   "outputs": [],
   "source": []
  }
 ],
 "metadata": {
  "kernelspec": {
   "display_name": "Python 3 (ipykernel)",
   "language": "python",
   "name": "python3"
  },
  "language_info": {
   "codemirror_mode": {
    "name": "ipython",
    "version": 3
   },
   "file_extension": ".py",
   "mimetype": "text/x-python",
   "name": "python",
   "nbconvert_exporter": "python",
   "pygments_lexer": "ipython3",
   "version": "3.12.4"
  }
 },
 "nbformat": 4,
 "nbformat_minor": 5
}
